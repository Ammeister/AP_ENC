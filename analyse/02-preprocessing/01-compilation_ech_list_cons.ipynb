{
 "cells": [
  {
   "cell_type": "markdown",
   "metadata": {},
   "source": [
    "Ce script compile les occurences des échevins des métiers des listes du conseil en un seul document."
   ]
  },
  {
   "cell_type": "markdown",
   "metadata": {},
   "source": [
    "## Import des modules"
   ]
  },
  {
   "cell_type": "code",
   "execution_count": 1,
   "metadata": {},
   "outputs": [],
   "source": [
    "import pandas as pd\n",
    "import os"
   ]
  },
  {
   "cell_type": "markdown",
   "metadata": {},
   "source": [
    "## Compilation des occurences"
   ]
  },
  {
   "cell_type": "code",
   "execution_count": 2,
   "metadata": {},
   "outputs": [],
   "source": [
    "#On crée un dataframe vide avec les colonnes souhaitées.\n",
    "dfComp = pd.DataFrame(columns = ['id', 'anneeMagistrature', 'magistrature', 'occurence', 'prenom', 'nom', 'surnom', 'genName', 'titres_roles', 'corps civique', 'corporation', 'poele', 'page', 'colonne', 'ligne'])\n",
    "\n",
    "#On crée une boucle qui parcourt les listes du conseil du XVe s. au format csv.\n",
    "for filename in os.listdir('./../Sources/ListesConseil'):\n",
    "    if filename.endswith('.csv'):\n",
    "        \n",
    "        #On ouvre chaque fichier et on le transforme en dataframe\n",
    "        with open(os.path.join('./../Sources/ListesConseil', filename)) as f:\n",
    "            df = pd.read_csv(f)\n",
    "            \n",
    "            #On prélève les représentants des métiers et on les append au premier dataframe.\n",
    "            entry = df.loc[df['corps civique'] == 'echevinat']\n",
    "            dfComp = dfComp.append([entry])\n",
    "            dfComp = dfComp.sort_values(by=['id'])\n",
    "dfComp.reset_index(inplace=True)\n",
    "dfComp = dfComp.rename(columns = {'index':'RangConseil'})\n",
    "\n",
    "#dfComp.to_csv('./Data/OccEch.csv',index=False)"
   ]
  }
 ],
 "metadata": {
  "kernelspec": {
   "display_name": "Python 3 (ipykernel)",
   "language": "python",
   "name": "python3"
  },
  "language_info": {
   "codemirror_mode": {
    "name": "ipython",
    "version": 3
   },
   "file_extension": ".py",
   "mimetype": "text/x-python",
   "name": "python",
   "nbconvert_exporter": "python",
   "pygments_lexer": "ipython3",
   "version": "3.9.7"
  }
 },
 "nbformat": 4,
 "nbformat_minor": 4
}
